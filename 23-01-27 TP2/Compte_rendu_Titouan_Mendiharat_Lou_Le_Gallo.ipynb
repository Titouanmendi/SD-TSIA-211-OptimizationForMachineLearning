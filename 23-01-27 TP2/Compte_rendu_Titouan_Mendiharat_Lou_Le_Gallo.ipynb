{
 "cells": [
  {
   "attachments": {},
   "cell_type": "markdown",
   "metadata": {},
   "source": [
    "# Compte rendu TP2 Titouan Mendiharat et Lou le Gallo"
   ]
  },
  {
   "cell_type": "code",
   "execution_count": 1,
   "metadata": {},
   "outputs": [],
   "source": [
    "# Imports\n",
    "\n",
    "import numpy as np\n",
    "import tensorflow as tf\n",
    "from tensorflow import keras\n",
    "from keras import layers\n",
    "import matplotlib.pyplot as plt"
   ]
  },
  {
   "attachments": {},
   "cell_type": "markdown",
   "metadata": {},
   "source": [
    "## Model"
   ]
  },
  {
   "attachments": {},
   "cell_type": "markdown",
   "metadata": {},
   "source": [
    "### Question 4.1\n",
    "How many optimization variables are we going to train using this model?"
   ]
  },
  {
   "attachments": {},
   "cell_type": "markdown",
   "metadata": {},
   "source": [
    "We we'll be using 26506 variables"
   ]
  },
  {
   "attachments": {},
   "cell_type": "markdown",
   "metadata": {},
   "source": [
    "## Stochastic gradient descent"
   ]
  },
  {
   "attachments": {},
   "cell_type": "markdown",
   "metadata": {},
   "source": [
    "### Question 5"
   ]
  },
  {
   "attachments": {},
   "cell_type": "markdown",
   "metadata": {},
   "source": [
    "First, define the data and loss function."
   ]
  },
  {
   "cell_type": "code",
   "execution_count": 2,
   "metadata": {},
   "outputs": [],
   "source": [
    "train_data, test_data = tf.keras.datasets.mnist.load_data(path=\"mnist.npz\")\n",
    "x_train = train_data[0].reshape(-1,784).astype(float) / 255\n",
    "y_train = train_data[1]\n",
    "x_test = test_data[0].reshape(-1,784).astype(float) / 255\n",
    "y_test = test_data[1]"
   ]
  },
  {
   "cell_type": "code",
   "execution_count": 3,
   "metadata": {},
   "outputs": [
    {
     "name": "stdout",
     "output_type": "stream",
     "text": [
      "Model: \"mnist_model\"\n",
      "_________________________________________________________________\n",
      " Layer (type)                Output Shape              Param #   \n",
      "=================================================================\n",
      " digits (InputLayer)         [(None, 784)]             0         \n",
      "                                                                 \n",
      " dense_1 (Dense)             (None, 32)                25120     \n",
      "                                                                 \n",
      " dense_2 (Dense)             (None, 32)                1056      \n",
      "                                                                 \n",
      " predictions (Dense)         (None, 10)                330       \n",
      "                                                                 \n",
      "=================================================================\n",
      "Total params: 26,506\n",
      "Trainable params: 26,506\n",
      "Non-trainable params: 0\n",
      "_________________________________________________________________\n"
     ]
    }
   ],
   "source": [
    "inputs = keras.Input(shape=(784,), name=\"digits\")\n",
    "x = layers.Dense(32, activation=\"relu\", name=\"dense_1\")(inputs)\n",
    "x = layers.Dense(32, activation=\"relu\", name=\"dense_2\")(x)\n",
    "outputs = layers.Dense(10, activation=None, name=\"predictions\")(x)\n",
    "model = keras.Model(inputs=inputs, outputs=outputs, name=\"mnist_model\")\n",
    "loss = keras.losses.SparseCategoricalCrossentropy(from_logits=True)\n",
    "model.summary()"
   ]
  },
  {
   "attachments": {},
   "cell_type": "markdown",
   "metadata": {},
   "source": [
    "To start, let's see what the existing libraries give."
   ]
  },
  {
   "cell_type": "code",
   "execution_count": 4,
   "metadata": {},
   "outputs": [
    {
     "name": "stdout",
     "output_type": "stream",
     "text": [
      "Epoch 1/10\n",
      "1875/1875 [==============================] - 5s 2ms/step - loss: 0.7156 - accuracy: 0.8025\n",
      "Epoch 2/10\n",
      "1875/1875 [==============================] - 5s 3ms/step - loss: 0.3084 - accuracy: 0.9115\n",
      "Epoch 3/10\n",
      "1875/1875 [==============================] - 6s 3ms/step - loss: 0.2545 - accuracy: 0.9258\n",
      "Epoch 4/10\n",
      "1875/1875 [==============================] - 5s 3ms/step - loss: 0.2230 - accuracy: 0.9350\n",
      "Epoch 5/10\n",
      "1875/1875 [==============================] - 6s 3ms/step - loss: 0.2014 - accuracy: 0.9416\n",
      "Epoch 6/10\n",
      "1875/1875 [==============================] - 6s 3ms/step - loss: 0.1841 - accuracy: 0.9461\n",
      "Epoch 7/10\n",
      "1875/1875 [==============================] - 6s 3ms/step - loss: 0.1712 - accuracy: 0.9491\n",
      "Epoch 8/10\n",
      "1875/1875 [==============================] - 6s 3ms/step - loss: 0.1600 - accuracy: 0.9531\n",
      "Epoch 9/10\n",
      "1875/1875 [==============================] - 6s 3ms/step - loss: 0.1506 - accuracy: 0.9558\n",
      "Epoch 10/10\n",
      "1875/1875 [==============================] - 7s 3ms/step - loss: 0.1418 - accuracy: 0.9582\n",
      "The evaluation of the model is :\n",
      "313/313 [==============================] - 1s 3ms/step - loss: 0.1524 - accuracy: 0.9540\n"
     ]
    },
    {
     "data": {
      "text/plain": [
       "[0.1524028182029724, 0.9539999961853027]"
      ]
     },
     "execution_count": 4,
     "metadata": {},
     "output_type": "execute_result"
    }
   ],
   "source": [
    "model.compile(optimizer=tf.keras.optimizers.SGD(),\n",
    "              loss=loss,\n",
    "              metrics=['accuracy'])\n",
    "\n",
    "model.fit(x_train, y_train, batch_size=32, epochs=10)\n",
    "\n",
    "print(\"The evaluation of the model is :\")\n",
    "model.evaluate(x_test, y_test, batch_size=32)"
   ]
  },
  {
   "attachments": {},
   "cell_type": "markdown",
   "metadata": {},
   "source": [
    "Then, let's implement our own SGD."
   ]
  },
  {
   "cell_type": "code",
   "execution_count": 9,
   "metadata": {},
   "outputs": [],
   "source": [
    "## Updating weights\n",
    "\n",
    "def update_weights(model, update):\n",
    "    new_weights = model.trainable_weights.copy()\n",
    "    for i in range(len(new_weights)):\n",
    "        new_weights[i] = new_weights[i] + update[i]\n",
    "    model.set_weights(new_weights)\n",
    "\n",
    "## gamma*Grad:\n",
    "def multiply_gradient(gamma,grad):\n",
    "    for k in range(len(grad)):\n",
    "        grad[k] = gamma * grad[k]"
   ]
  },
  {
   "cell_type": "code",
   "execution_count": 10,
   "metadata": {},
   "outputs": [
    {
     "name": "stdout",
     "output_type": "stream",
     "text": [
      "Initialement on a une perte de 0.09119170159101486 sur le x_train \n",
      "Initialement on a une perte de 0.1139206662774086 sur le x_test \n",
      "We will have 3000.0 iterations with batch_size = 20 per epoch. We will have n_epoch = 20 \n",
      "We are at epoch = 0\n",
      "We are at epoch = 1\n",
      "We are at epoch = 2\n",
      "We are at epoch = 3\n",
      "We are at epoch = 4\n",
      "We are at epoch = 5\n",
      "We are at epoch = 6\n",
      "We are at epoch = 7\n",
      "We are at epoch = 8\n",
      "We are at epoch = 9\n",
      "We are at epoch = 10\n",
      "We are at epoch = 11\n",
      "We are at epoch = 12\n",
      "We are at epoch = 13\n",
      "We are at epoch = 14\n",
      "We are at epoch = 15\n",
      "We are at epoch = 16\n",
      "We are at epoch = 17\n",
      "We are at epoch = 18\n",
      "We are at epoch = 19\n",
      "Finalement on a une perte de 0.08643551170825958 sur le x_train \n",
      "Finalement on a une perte de 0.11007722467184067 sur le x_test \n"
     ]
    },
    {
     "name": "stderr",
     "output_type": "stream",
     "text": [
      "C:\\Users\\titou\\AppData\\Local\\Temp\\ipykernel_14560\\35880956.py:77: UserWarning: FixedFormatter should only be used together with FixedLocator\n",
      "  ax.set_xticklabels([int(500*(k)) for k in ax.get_xticks()])\n"
     ]
    },
    {
     "data": {
      "image/png": "[encoded data removed]",
      "text/plain": [
       "<Figure size 640x480 with 1 Axes>"
      ]
     },
     "metadata": {},
     "output_type": "display_data"
    }
   ],
   "source": [
    "# Evaluate the initial model\n",
    "logits_train = model(x_train)\n",
    "loss_init_train = loss(y_train, logits_train).numpy()\n",
    "logits_test = model(x_test)\n",
    "loss_init_test = loss(y_test, logits_test).numpy()\n",
    "\n",
    "print(f\"Initialement on a une perte de {loss_init_train} sur le x_train \")\n",
    "print(f\"Initialement on a une perte de {loss_init_test} sur le x_test \")\n",
    "\n",
    "# Stochastic gradient algorithm\n",
    "n_data, n_features = x_train.shape\n",
    "n_epoch = 20\n",
    "batch_size = 20\n",
    "eps = 0.01  # critère d'arrêt si jamais on a suffisamment optimisé un batch\n",
    "\n",
    "# Define the step\n",
    "a = 0.1\n",
    "gamma = a / np.array([ np.sqrt(k+1) for k in range(n_data//batch_size)])\n",
    "\n",
    "print(\n",
    "    f\"We will have {n_data/batch_size} iterations with {batch_size = } per epoch. We will have {n_epoch = } \"\n",
    ")\n",
    "loss_tab_train = []\n",
    "loss_tab_test = []\n",
    "\n",
    "for epoch in range(n_epoch):\n",
    "\n",
    "    print(f\"We are at {epoch = }\")\n",
    "\n",
    "    rand_index = np.random.randint(0, n_data, n_data)  #Index to select\n",
    "    #Shuffled data\n",
    "    x_sgd = x_train[rand_index]\n",
    "    y_sgd = y_train[rand_index]\n",
    "\n",
    "    for k_batch in range(n_data // batch_size):\n",
    "        with tf.GradientTape() as tape:\n",
    "            sample = x_sgd[k_batch * batch_size:(k_batch + 1) *\n",
    "                           batch_size]  #sample = batch\n",
    "            logits = model(sample)\n",
    "            loss_value = loss(\n",
    "                y_sgd[k_batch * batch_size:(k_batch + 1) * batch_size], logits)\n",
    "        grad = tape.gradient(loss_value, model.trainable_weights)\n",
    "        multiply_gradient(-1 * gamma[k_batch] / batch_size, grad)\n",
    "        update_weights(model, grad)\n",
    "\n",
    "        # Log every 500 batches.\n",
    "        if k_batch % 500 == 0:\n",
    "            #compute the loss on the train sample\n",
    "            logits_train = model(x_train)\n",
    "            global_loss_train = loss(y_train, logits_train).numpy()\n",
    "            loss_tab_train.append(global_loss_train)\n",
    "            #compute loss on the test sample\n",
    "            logits_test = model(x_test)\n",
    "            global_loss_test = loss(y_test, logits_test).numpy()\n",
    "            loss_tab_test.append(global_loss_test)\n",
    "\n",
    "# Evaluate the final model\n",
    "logits_train = model(x_train)\n",
    "loss_final_train = loss(y_train, logits_train).numpy()\n",
    "logits_test = model(x_test)\n",
    "loss_final_test = loss(y_test, logits_test).numpy()\n",
    "\n",
    "print(f\"Finalement on a une perte de {loss_final_train} sur le x_train \")\n",
    "print(f\"Finalement on a une perte de {loss_final_test} sur le x_test \")\n",
    "\n",
    "fig, ax = plt.subplots()\n",
    "ax.plot(loss_tab_train, label='train')\n",
    "ax.plot(loss_tab_test, label='test')\n",
    "ax.set_xlabel(\"batch_number\")\n",
    "ax.set_xticklabels([int(500*(k)) for k in ax.get_xticks()])\n",
    "ax.set_ylabel(\"Loss value\")\n",
    "plt.legend()\n",
    "plt.show()"
   ]
  }
 ],
 "metadata": {
  "kernelspec": {
   "display_name": "Python 3",
   "language": "python",
   "name": "python3"
  },
  "language_info": {
   "codemirror_mode": {
    "name": "ipython",
    "version": 3
   },
   "file_extension": ".py",
   "mimetype": "text/x-python",
   "name": "python",
   "nbconvert_exporter": "python",
   "pygments_lexer": "ipython3",
   "version": "3.10.9"
  },
  "orig_nbformat": 4,
  "vscode": {
   "interpreter": {
    "hash": "09b65ccb47121184b777eb75dc58d45c2e3a6de6a652e90ceaf4c7bcb4f62c8a"
   }
  }
 },
 "nbformat": 4,
 "nbformat_minor": 2
}
