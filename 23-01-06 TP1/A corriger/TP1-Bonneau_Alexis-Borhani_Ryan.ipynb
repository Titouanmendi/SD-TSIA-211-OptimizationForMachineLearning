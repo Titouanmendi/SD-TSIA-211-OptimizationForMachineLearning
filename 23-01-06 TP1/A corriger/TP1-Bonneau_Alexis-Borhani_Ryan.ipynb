{
 "cells": [
  {
   "attachments": {},
   "cell_type": "markdown",
   "metadata": {},
   "source": [
    "# SD-TSIA 211 : TP 1"
   ]
  },
  {
   "attachments": {},
   "cell_type": "markdown",
   "metadata": {},
   "source": [
    "### Question 3.1"
   ]
  },
  {
   "attachments": {},
   "cell_type": "markdown",
   "metadata": {},
   "source": [
    "$$\n",
    "f_1(w_0,w) = \\frac{1}{n} \\sum_{i=1}^{n} \\log(1+\\exp(-y_i(x_i^Tw+w_0))) + \\frac{\\rho}{2}  \\left\\|w\\right\\|_2^2\n",
    "$$"
   ]
  },
  {
   "attachments": {},
   "cell_type": "markdown",
   "metadata": {},
   "source": [
    "Let's compute the gradient of $f_1$."
   ]
  },
  {
   "attachments": {},
   "cell_type": "markdown",
   "metadata": {},
   "source": [
    "Let's define the sigmoide function."
   ]
  },
  {
   "attachments": {},
   "cell_type": "markdown",
   "metadata": {},
   "source": [
    "$$\n",
    "\\sigma(a) = (1 + e^{-a})^{-1}\n",
    "$$\n",
    "$$\n",
    "\\sigma^{'}(a) = \\sigma(a) (1-\\sigma(a))\n",
    "$$"
   ]
  },
  {
   "attachments": {},
   "cell_type": "markdown",
   "metadata": {},
   "source": [
    "$$\n",
    "\\nabla f_1(w_0,w) = \\begin{pmatrix} \n",
    "    -\\frac{1}{n} \\sum_{i=1}^{n} y_i \\sigma(-y_i(x_i^Tw+w_0)) \\\\\n",
    "    -\\frac{1}{n} \\sum_{i=1}^{n} x_{1,i} y_i \\sigma(-y_i(x_i^Tw+w_0)) + \\rho w_1 \\\\\n",
    "    \\vdots \\\\\n",
    "    -\\frac{1}{n} \\sum_{i=1}^{n} x_{p,i} y_i \\sigma(-y_i(x_i^Tw+w_0)) + \\rho w_p\n",
    "    \\end{pmatrix}\n",
    "$$"
   ]
  },
  {
   "attachments": {},
   "cell_type": "markdown",
   "metadata": {},
   "source": [
    "Let's now compute the Hessian matrix of $f_1$."
   ]
  },
  {
   "attachments": {},
   "cell_type": "markdown",
   "metadata": {},
   "source": [
    "Since $y_i^2 = 1$, we have :\n",
    "$$\n",
    "H_{f_1}^{(1,1)} = \\frac{1}{n} \\sum_{i=1}^{n} \\sigma(-y_i(x_i^Tw+w_0))(1-\\sigma(-y_i(x_i^Tw+w_0)))\n",
    "$$\n",
    "$\\forall l \\in [2,p+1],$\n",
    "$$\n",
    "H_{f_1}^{(l,1)} = \\frac{1}{n} \\sum_{i=1}^{n} x_{l,i} \\sigma(-y_i(x_i^Tw+w_0))(1-\\sigma(-y_i(x_i^Tw+w_0)))\n",
    "$$\n",
    "$\\forall (l,k) \\in [2,p+1]^2,$\n",
    "$$\n",
    "H_{f_1}^{(l,k)} = \\frac{1}{n} \\sum_{i=1}^{n} x_{l,i} x_{k,i} \\sigma(-y_i(x_i^Tw+w_0))(1-\\sigma(-y_i(x_i^Tw+w_0))) + \\rho \\delta _{l,k}\n",
    "$$"
   ]
  },
  {
   "attachments": {},
   "cell_type": "markdown",
   "metadata": {},
   "source": [
    "### Question 3.2"
   ]
  },
  {
   "cell_type": "code",
   "execution_count": 1,
   "metadata": {},
   "outputs": [],
   "source": [
    "import numpy as np\n",
    "import scipy.sparse as sp\n",
    "from scipy.linalg import norm, solve\n",
    "from scipy.optimize import check_grad\n",
    "import matplotlib.pyplot as plt\n",
    "import time\n",
    "\n",
    "def load_data(file_name_matrix='tfidf_matrix.npz', file_name_feature_names='feature_names.npy',\n",
    "\t      file_name_labels='train_labels.npy', samples_in_train_set=10000,\n",
    "\t      samples_in_test_set=137562):\n",
    "\t# Recuperation des donnees\n",
    "\tTF_IDF_matrix = sp.load_npz(file_name_matrix)\n",
    "\tTF_IDF_feature_names = np.load(file_name_feature_names)\n",
    "\ttrain_labels = np.load(file_name_labels, allow_pickle=True)\n",
    "\ttrain_labels_numeric = ((train_labels == 'Oui') + 0)\n",
    "\n",
    "\tX = TF_IDF_matrix[:samples_in_train_set].toarray()\n",
    "\ty = train_labels_numeric[:samples_in_train_set] * 2 - 1\n",
    "\n",
    "\tX_test = TF_IDF_matrix[samples_in_train_set:samples_in_train_set+samples_in_test_set].toarray()\n",
    "\ty_test = train_labels_numeric[samples_in_train_set:samples_in_train_set+samples_in_test_set] * 2 - 1\n",
    "\n",
    "\n",
    "\t# Standardisation des données\n",
    "\tstd_X = np.maximum(np.std(X, axis=0), 1e-7)\n",
    "\tX = X / std_X\n",
    "\tX_test = X_test / std_X\n",
    "\n",
    "\tn = X.shape[0]\n",
    "\tn_test = X_test.shape[0]\n",
    "\tm = X.shape[1]\n",
    "\n",
    "\teX = X\n",
    "\teX_test = X_test\n",
    "\n",
    "\t# Ajout d'une colonne de uns\n",
    "\t#eX = np.hstack((np.ones((n,1)), X))\n",
    "\t#eX_test = np.hstack((np.ones((n_test,1)), X_test))\n",
    "\n",
    "\treturn eX, y, eX_test, y_test"
   ]
  },
  {
   "cell_type": "code",
   "execution_count": 2,
   "metadata": {},
   "outputs": [
    {
     "name": "stdout",
     "output_type": "stream",
     "text": [
      "[[0.         0.         0.         0.         0.         0.\n",
      "  0.         0.         0.         0.         0.         0.\n",
      "  0.         0.         0.         0.         0.         0.\n",
      "  0.         0.         0.         0.         0.         0.\n",
      "  0.         0.         0.         0.         0.         0.        ]\n",
      " [0.         0.         0.         0.         0.         0.\n",
      "  0.         0.         0.         0.         0.         0.\n",
      "  0.         0.         0.         0.         0.         0.\n",
      "  0.         0.         0.         0.         0.         0.\n",
      "  0.         0.         0.         0.         0.         0.        ]\n",
      " [0.         0.         0.         0.         0.         0.\n",
      "  0.         0.         0.         0.         0.         0.\n",
      "  0.         0.         4.18178779 0.         0.         5.2446769\n",
      "  0.         0.         0.         0.         0.         0.\n",
      "  0.         0.         0.         0.         0.         0.        ]\n",
      " [0.         0.         0.         0.         0.         0.\n",
      "  0.         0.         0.         0.         3.84361739 1.37992731\n",
      "  0.         0.         0.         0.         0.         0.\n",
      "  1.4796936  1.50980087 0.         2.79885098 1.34184541 0.\n",
      "  0.         1.06624857 0.         0.         0.         0.        ]\n",
      " [0.         0.         0.         0.         0.         3.11203439\n",
      "  0.         0.         0.         0.         0.         0.\n",
      "  0.         0.         0.         2.73966436 0.         0.\n",
      "  0.         0.         0.         0.         0.         0.\n",
      "  0.         0.         1.87048125 0.         0.         1.31401902]\n",
      " [0.         0.         0.         0.         0.         0.\n",
      "  4.35422618 0.         0.         0.         0.         0.\n",
      "  0.         0.         0.         0.         0.         1.86323441\n",
      "  0.         0.         0.         0.         0.         0.\n",
      "  0.         0.         0.         0.         0.         0.        ]\n",
      " [0.         0.         0.         0.         0.         0.\n",
      "  0.         0.         0.         0.         0.         0.\n",
      "  0.         0.         0.         0.         0.         0.\n",
      "  0.         0.         0.         0.         0.         0.\n",
      "  0.         0.         0.         0.         0.         0.        ]\n",
      " [0.         0.         0.         0.         0.         0.\n",
      "  0.         0.         0.         0.         0.         0.\n",
      "  0.         0.         0.         0.         0.         0.\n",
      "  0.         0.         0.         0.         0.         0.\n",
      "  0.         0.         0.         0.         0.         0.        ]\n",
      " [0.         0.         0.         0.         0.         0.\n",
      "  0.         0.         0.         0.         0.         6.56654625\n",
      "  0.         0.         0.         0.         0.         0.\n",
      "  0.         0.         0.         0.         0.         0.97244898\n",
      "  0.         0.         0.         1.74682734 0.         2.09468672]\n",
      " [0.         0.         0.         0.         0.         0.\n",
      "  0.         0.         0.         0.         0.         0.\n",
      "  0.         0.         0.         0.         0.         0.\n",
      "  0.         0.         0.         0.         0.         0.\n",
      "  0.         0.         0.         0.         0.         0.        ]\n",
      " [0.         0.         0.         0.         0.         0.\n",
      "  0.         0.         0.         0.         0.         0.\n",
      "  0.         0.         0.         6.35299327 0.         3.74960927\n",
      "  0.         0.         0.         0.         0.         0.\n",
      "  0.         0.         0.         0.         0.         0.        ]\n",
      " [0.         0.         0.         0.         0.         0.\n",
      "  0.         0.         0.         0.         0.         0.\n",
      "  0.         0.         0.         0.         0.         0.\n",
      "  0.         0.         0.         0.         0.         0.\n",
      "  0.         0.         0.         0.         0.         0.        ]\n",
      " [0.         0.         0.         0.         0.         0.\n",
      "  0.         0.         0.         0.         0.         0.\n",
      "  0.         0.         0.         0.         0.         0.\n",
      "  0.         0.         0.         0.         0.         0.\n",
      "  0.         3.09043925 0.         0.         0.         0.        ]\n",
      " [0.         0.         0.         0.         0.         0.\n",
      "  0.         0.         0.         0.         0.         0.\n",
      "  0.         0.         0.         0.         0.         0.\n",
      "  0.         0.         0.         0.         0.         0.\n",
      "  0.         0.         0.         0.         0.         0.        ]\n",
      " [2.47290163 0.         0.         0.         0.         0.\n",
      "  3.28366898 3.47585599 0.         0.         0.         0.\n",
      "  0.         0.         0.         0.         0.         0.\n",
      "  0.         0.         0.         6.53426224 0.         0.\n",
      "  0.         0.         1.62541499 0.         0.         1.1418592 ]\n",
      " [0.         0.         0.         0.         0.         0.\n",
      "  0.         0.         0.         0.         0.         0.\n",
      "  0.         0.         0.         0.         0.         0.\n",
      "  0.         9.4241289  0.         0.         0.         0.\n",
      "  0.         0.         0.         0.         0.         0.        ]\n",
      " [0.         0.         0.         0.         0.         0.\n",
      "  8.38550893 0.         0.         0.         0.         0.\n",
      "  0.         0.         0.         6.07964637 0.         0.\n",
      "  0.         0.         0.         0.         0.         0.\n",
      "  0.         0.         0.         0.         0.         0.        ]\n",
      " [0.         0.         0.         0.         0.         0.\n",
      "  0.         0.         0.         0.         0.         0.\n",
      "  0.         0.         0.         0.         0.         1.70446304\n",
      "  0.         0.         0.         0.         0.         0.\n",
      "  0.         0.         0.         0.         0.         0.        ]\n",
      " [0.         0.         0.         0.         0.         0.\n",
      "  0.         0.         0.         0.         0.         0.\n",
      "  0.         0.         7.00500763 0.         0.         0.\n",
      "  0.         0.         0.         0.         0.         0.\n",
      "  0.         0.         0.         0.         0.         0.        ]\n",
      " [0.         0.         0.         0.         0.         0.\n",
      "  0.         3.84813973 0.         0.         0.         0.\n",
      "  0.         0.         0.         0.         0.         0.\n",
      "  0.         0.         0.         0.         0.         0.\n",
      "  0.         0.         0.         0.         0.         0.        ]\n",
      " [0.         0.         0.         0.         0.         0.\n",
      "  0.         0.         0.         0.         0.         0.\n",
      "  0.         0.         0.         0.         0.         1.31552642\n",
      "  0.         0.         0.         0.         0.         0.\n",
      "  0.         0.         0.         0.         0.         0.        ]\n",
      " [0.         0.         0.         0.         0.         0.\n",
      "  4.02802746 0.         0.         0.         0.         0.\n",
      "  0.         0.         0.         0.         0.         0.\n",
      "  0.         0.         0.         0.         0.         0.\n",
      "  0.         0.         3.98774435 0.         0.         0.        ]\n",
      " [0.         0.         0.         0.         0.         0.\n",
      "  0.         0.         0.         0.         0.         0.\n",
      "  0.         0.         0.         0.         0.         1.40736129\n",
      "  0.         0.         0.         0.         0.         0.\n",
      "  0.         0.         0.         0.         0.         0.        ]\n",
      " [2.53405497 0.         0.         0.         0.         0.\n",
      "  0.         0.         0.         0.         0.         0.\n",
      "  0.         0.         0.         0.         0.         0.\n",
      "  0.         0.         0.         0.         0.         0.\n",
      "  1.7449976  0.         0.         0.         0.         0.        ]\n",
      " [0.         0.         0.         0.         0.         0.\n",
      "  0.         0.         0.         0.         0.         0.\n",
      "  0.         0.         0.         0.         0.         0.\n",
      "  0.         0.         4.76255448 0.         0.         0.\n",
      "  0.         0.         6.97590497 0.         0.         0.        ]\n",
      " [0.         0.         0.         0.         0.         0.\n",
      "  0.         0.         0.         0.         0.         0.\n",
      "  0.         0.         0.         0.         0.         0.\n",
      "  0.         0.         0.         0.         0.         0.\n",
      "  0.         0.         0.         0.         0.         0.        ]\n",
      " [0.         0.         0.         0.         0.         0.\n",
      "  0.         0.         0.         0.         0.         0.\n",
      "  0.         0.         0.         0.         0.         0.\n",
      "  5.24595314 0.         0.         0.         0.         0.\n",
      "  0.         0.         0.         6.50716469 0.         0.        ]\n",
      " [0.         0.         2.52689744 1.64074319 0.         0.\n",
      "  1.73993045 1.84176532 0.         0.         0.         0.\n",
      "  0.9934356  0.         1.18730322 0.         2.24252798 0.37227031\n",
      "  0.         0.         2.35199379 1.15411164 0.         0.\n",
      "  0.         0.         0.         0.         0.         0.        ]\n",
      " [0.         0.         0.         0.         0.         0.\n",
      "  0.         0.         0.         0.         0.         0.\n",
      "  0.         0.         0.         0.         0.         0.\n",
      "  0.         0.         0.         0.         0.         0.\n",
      "  0.         0.         0.         0.         0.         0.        ]\n",
      " [0.         0.         0.         0.         0.         0.\n",
      "  0.         0.         0.         0.         3.95176182 0.\n",
      "  0.         0.         0.         0.         4.19354877 0.\n",
      "  0.         0.         0.         0.         0.         0.\n",
      "  0.         0.         0.         0.         0.         0.        ]]\n",
      "[-1 -1  1 ... -1  1  1]\n"
     ]
    }
   ],
   "source": [
    "def sigmoide(a) :\n",
    "    return (1 / (1 + np.exp(-a)))\n",
    "a, b, c, d = load_data('tfidf_matrix_97MB.npz', 'feature_names_97MB.npy', 'train_labels.npy')\n",
    "x = a[0:30,0:30] #On réduit la dimension pour que ça ne soit pas trop long (et que mon ordi ne flambe pas)\n",
    "y = b\n",
    "n, p = x.shape\n",
    "rho = 1/n\n",
    "print(x)\n",
    "print(y)"
   ]
  },
  {
   "cell_type": "code",
   "execution_count": 3,
   "metadata": {},
   "outputs": [
    {
     "name": "stdout",
     "output_type": "stream",
     "text": [
      "30 30\n"
     ]
    }
   ],
   "source": [
    "print(n,p)"
   ]
  },
  {
   "cell_type": "code",
   "execution_count": 4,
   "metadata": {},
   "outputs": [],
   "source": [
    "def deriv_f1(w0,w) :\n",
    "    Grad = np.zeros(p+1)\n",
    "    Hess = np.zeros((p+1,p+1))\n",
    "    IntoSigma = np.zeros((p+1,n))\n",
    "\n",
    "    Grad0 = 0\n",
    "    for i in range(n) :\n",
    "        IntoSigma[0][i] = np.dot(x[i],w) + w0\n",
    "        y_temp = y[i]\n",
    "        Grad0 += y_temp * sigmoide(-y_temp*IntoSigma[0][i])\n",
    "    Grad[0] = - (1/n) * Grad0\n",
    "\n",
    "    for j in range(1, p+1) :\n",
    "        Gradj = 0\n",
    "        for i in range(n) :\n",
    "            IntoSigma[j][i] = np.dot(x[i],w) + w0\n",
    "            y_temp = y[i]\n",
    "            Gradj += y_temp * x[i][j-1]* sigmoide(-y_temp*IntoSigma[j][i])\n",
    "        Grad[j] = ( - (1/n) * Gradj ) + rho * w[j-1]\n",
    "    \n",
    "    Hess00 = 0\n",
    "    for i in range(n) :\n",
    "        Hess00 += sigmoide(-y[i]*IntoSigma[0][i])\n",
    "    Hess[0][0] = (1/n) * Hess00\n",
    "\n",
    "    for l in range(1, p+1) :\n",
    "        for k in range(l, p+1) :\n",
    "            Hesslk = 0\n",
    "            for i in range(n) :\n",
    "                Hesslk += x[i][l-1] * x[i][k-1] * sigmoide(-y[i]*IntoSigma[l][i])\n",
    "            if (l == k) :\n",
    "                Hess[l][k] = ( (1/n) * Hesslk ) + rho\n",
    "            else :\n",
    "                Hess[l][k] = (1/n) * Hesslk\n",
    "    \n",
    "    return (Grad, Hess)\n",
    "\n",
    "\n",
    "def f1_function(w0,w) :\n",
    "    function = 0\n",
    "    for i in range(n) :\n",
    "        function += np.log(1+np.exp(-y[i]*np.dot(x[i],w)+w0)) + (rho/2)*(np.linalg.norm(w))**2\n",
    "    return (function/n)\n",
    "\n",
    "def f1_grad(w0,w) :\n",
    "    Grad = np.zeros(p+1)\n",
    "    Grad0 = 0\n",
    "    for i in range(n) :\n",
    "        y_temp = y[i]\n",
    "        Grad0 += y_temp * sigmoide(-y_temp*(np.dot(x[i],w) + w0))\n",
    "    Grad[0] = - (1/n) * Grad0\n",
    "    for j in range(1, p+1) :\n",
    "        Gradj = 0\n",
    "        for i in range(n) :\n",
    "            y_temp = y[i]\n",
    "            Gradj += y_temp * x[i][j-1]* sigmoide(-y_temp*(np.dot(x[i],w) + w0))\n",
    "        Grad[j] = ( - (1/n) * Gradj ) + rho * w[j-1]\n",
    "    return (Grad)\n",
    "\n",
    "def f1_hess(w0,w) :\n",
    "    Hess = np.zeros((p+1,p+1))\n",
    "    Hess00 = 0\n",
    "    for i in range(n) :\n",
    "        Hess00 += sigmoide(-y[i]*(np.dot(x[i],w) + w0))\n",
    "    Hess[0][0] = (1/n) * Hess00\n",
    "\n",
    "    for l in range(1, p+1) :\n",
    "        for k in range(l, p+1) :\n",
    "            Hesslk = 0\n",
    "            for i in range(n) :\n",
    "                Hesslk += x[i][l-1] * x[i][k-1] * sigmoide(-y[i]*(np.dot(x[i],w) + w0))\n",
    "            if (l == k) :\n",
    "                Hess[l][k] = ( (1/n) * Hesslk ) + rho\n",
    "            else :\n",
    "                Hess[l][k] = (1/n) * Hesslk\n",
    "    return (Hess)"
   ]
  },
  {
   "cell_type": "code",
   "execution_count": 23,
   "metadata": {},
   "outputs": [
    {
     "data": {
      "text/plain": [
       "2.1823083731079915"
      ]
     },
     "execution_count": 23,
     "metadata": {},
     "output_type": "execute_result"
    }
   ],
   "source": [
    "#print(deriv_f1(1,np.ones(p)))\n",
    "#print(f1_function(1,np.ones(p)))\n",
    "#print(f1_grad(1,np.ones(p)))\n",
    "w0, w = np.ones(1),np.ones(p)\n",
    "check_grad(f1_function, f1_grad, w0, w)\n",
    "#print(f1_hess(1,np.ones(p)))"
   ]
  },
  {
   "attachments": {},
   "cell_type": "markdown",
   "metadata": {},
   "source": [
    "### Question 3.3"
   ]
  },
  {
   "cell_type": "code",
   "execution_count": 21,
   "metadata": {},
   "outputs": [],
   "source": [
    "epsilon = 1e-10\n",
    "\n",
    "def newton(w0,w) :\n",
    "    param0 = w0\n",
    "    params = w\n",
    "    g = f1_grad(w0,w)\n",
    "    grads = []\n",
    "    while np.dot(g,g) >= epsilon :\n",
    "        g = f1_grad(param0,params)\n",
    "        grads.append(g)\n",
    "        Complex = - solve(f1_HESS(np.array([param0, params])), g(np.array([param0, params])))\n",
    "        param0 += Complex[0]\n",
    "        params += Complex[1:]\n",
    "    return (grads)\n",
    "\n",
    "def f1_HESS(w):\n",
    "    return f1_hess(w[0], w[1:])\n",
    "\n",
    "def f1_GRAD(w) :\n",
    "    return f1_grad(w[0], w[1:])"
   ]
  },
  {
   "cell_type": "code",
   "execution_count": null,
   "metadata": {},
   "outputs": [],
   "source": [
    "w0, w = np.zeros(1), np.zeros(p)\n",
    "print(newton(w0,w))"
   ]
  },
  {
   "attachments": {},
   "cell_type": "markdown",
   "metadata": {},
   "source": [
    "### Question 3.4"
   ]
  },
  {
   "cell_type": "code",
   "execution_count": null,
   "metadata": {},
   "outputs": [],
   "source": [
    "w0, w = (np.ones(1), np.ones(p))\n",
    "print(newton(w0,w))"
   ]
  },
  {
   "attachments": {},
   "cell_type": "markdown",
   "metadata": {},
   "source": [
    "### Question 3.5"
   ]
  },
  {
   "cell_type": "code",
   "execution_count": 22,
   "metadata": {},
   "outputs": [],
   "source": [
    "def Armijo(w0, w, dir, alpha) :\n",
    "    g = f1_grad(w0,w)\n",
    "    nor = np.dot(g,g.T)\n",
    "    while (f1_function((w0,w) + dir*alpha) > f1_function(w0,w) + alpha * nor) :\n",
    "        alpha = alpha / 2\n",
    "    return (alpha)"
   ]
  },
  {
   "cell_type": "code",
   "execution_count": null,
   "metadata": {},
   "outputs": [],
   "source": [
    "direction = f1_grad(w0,w)\n",
    "alph = 0.5\n",
    "print(Armijo(w0,w,direction,alph))"
   ]
  },
  {
   "attachments": {},
   "cell_type": "markdown",
   "metadata": {},
   "source": [
    "### Question 4.1"
   ]
  },
  {
   "attachments": {},
   "cell_type": "markdown",
   "metadata": {},
   "source": [
    "We can't use Newton's method because $\\left\\|w\\right\\|_1$ is not differentiable."
   ]
  },
  {
   "attachments": {},
   "cell_type": "markdown",
   "metadata": {},
   "source": [
    "### Question 4.2"
   ]
  },
  {
   "attachments": {},
   "cell_type": "markdown",
   "metadata": {},
   "source": [
    "Obviously, we obtain :\n",
    "$$\n",
    "f_2(w_0,w) = \\frac{1}{n} \\sum_{i=1}^{n} \\log(1+\\exp(-y_i (x_i^Tw+w_0)))\n",
    "$$\n",
    "$$\n",
    "g_2(w) = \\frac{\\rho}{2}  \\left\\|w\\right\\|_1^2\n",
    "$$\n",
    "We have that :\n",
    "$$\n",
    "prox_{g_{2}}(x) = \\argmin _y ( g_2(y) + \\left\\|x-y\\right\\|_2^2 )\n",
    "$$"
   ]
  },
  {
   "cell_type": "code",
   "execution_count": 25,
   "metadata": {},
   "outputs": [],
   "source": [
    "def f2_grad(w0,w) :\n",
    "    Grad = np.zeros(p+1)\n",
    "    Grad0 = 0\n",
    "    for i in range(n) :\n",
    "        y_temp = y[i]\n",
    "        Grad0 += y_temp * sigmoide(-y_temp*(np.dot(x[i],w) + w0))\n",
    "    Grad[0] = - (1/n) * Grad0\n",
    "    for j in range(1, p+1) :\n",
    "        Gradj = 0\n",
    "        for i in range(n) :\n",
    "            y_temp = y[i]\n",
    "            Gradj += y_temp * x[i][j-1]* sigmoide(-y_temp*(np.dot(x[i],w) + w0))\n",
    "        Grad[j] = ( - (1/n) * Gradj )\n",
    "    return (Grad)"
   ]
  },
  {
   "attachments": {},
   "cell_type": "markdown",
   "metadata": {},
   "source": [
    "### Question 4.3"
   ]
  }
 ],
 "metadata": {
  "kernelspec": {
   "display_name": "Python 3",
   "language": "python",
   "name": "python3"
  },
  "language_info": {
   "codemirror_mode": {
    "name": "ipython",
    "version": 3
   },
   "file_extension": ".py",
   "mimetype": "text/x-python",
   "name": "python",
   "nbconvert_exporter": "python",
   "pygments_lexer": "ipython3",
   "version": "3.10.9 (tags/v3.10.9:1dd9be6, Dec  6 2022, 20:01:21) [MSC v.1934 64 bit (AMD64)]"
  },
  "orig_nbformat": 4,
  "vscode": {
   "interpreter": {
    "hash": "09b65ccb47121184b777eb75dc58d45c2e3a6de6a652e90ceaf4c7bcb4f62c8a"
   }
  }
 },
 "nbformat": 4,
 "nbformat_minor": 2
}
