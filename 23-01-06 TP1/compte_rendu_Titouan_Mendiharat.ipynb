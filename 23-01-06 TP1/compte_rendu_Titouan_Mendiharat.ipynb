{
 "cells": [
  {
   "attachments": {},
   "cell_type": "markdown",
   "metadata": {},
   "source": [
    "# Titouan Mendiharat's report"
   ]
  },
  {
   "cell_type": "code",
   "execution_count": 2,
   "metadata": {},
   "outputs": [],
   "source": [
    "# Imports\n",
    "import numpy as np\n",
    "import scipy.sparse as sp\n",
    "from scipy.linalg import norm, solve\n",
    "from scipy.optimize import check_grad\n",
    "import matplotlib.pyplot as plt\n",
    "import time\n",
    "from numpy.linalg import norm"
   ]
  },
  {
   "cell_type": "code",
   "execution_count": 3,
   "metadata": {},
   "outputs": [],
   "source": [
    "def load_data(file_name_matrix='tfidf_matrix_97MB.npz', file_name_feature_names='feature_names_97MB.npy',\n",
    "\t      file_name_labels='train_labels.npy', samples_in_train_set=10000,\n",
    "\t      samples_in_test_set=137562):\n",
    "\t# Recuperation des donnees\n",
    "\tTF_IDF_matrix = sp.load_npz(file_name_matrix)\n",
    "\tTF_IDF_feature_names = np.load(file_name_feature_names)\n",
    "\ttrain_labels = np.load(file_name_labels, allow_pickle=True)\n",
    "\ttrain_labels_numeric = ((train_labels == 'Oui') + 0)\n",
    "\n",
    "\tX = TF_IDF_matrix[:samples_in_train_set].toarray()\n",
    "\ty = train_labels_numeric[:samples_in_train_set] * 2 - 1\n",
    "\n",
    "\tX_test = TF_IDF_matrix[samples_in_train_set:samples_in_train_set+samples_in_test_set].toarray()\n",
    "\ty_test = train_labels_numeric[samples_in_train_set:samples_in_train_set+samples_in_test_set] * 2 - 1\n",
    "\n",
    "\n",
    "\t# Standardisation des données\n",
    "\tstd_X = np.maximum(np.std(X, axis=0), 1e-7)\n",
    "\tX = X / std_X\n",
    "\tX_test = X_test / std_X\n",
    "\n",
    "\tn = X.shape[0]\n",
    "\tn_test = X_test.shape[0]\n",
    "\tm = X.shape[1]\n",
    "\n",
    "\t# Ajout d'une colonne de uns\n",
    "\teX = np.hstack((np.ones((n,1)), X))\n",
    "\teX_test = np.hstack((np.ones((n_test,1)), X_test))\n",
    "\n",
    "\treturn eX, y, eX_test, y_test"
   ]
  },
  {
   "attachments": {},
   "cell_type": "markdown",
   "metadata": {},
   "source": [
    "## Question 3.1"
   ]
  },
  {
   "attachments": {},
   "cell_type": "markdown",
   "metadata": {},
   "source": [
    "![alternative text](f1grad.jpg)"
   ]
  },
  {
   "attachments": {},
   "cell_type": "markdown",
   "metadata": {},
   "source": [
    "![alternative text](f1hess.jpg)"
   ]
  },
  {
   "attachments": {},
   "cell_type": "markdown",
   "metadata": {},
   "source": [
    "Hence, the function $f_1$ is convex."
   ]
  },
  {
   "attachments": {},
   "cell_type": "markdown",
   "metadata": {},
   "source": [
    "## Question 3.2"
   ]
  },
  {
   "cell_type": "code",
   "execution_count": 4,
   "metadata": {},
   "outputs": [],
   "source": [
    "# First we need to load the data\n",
    "\n",
    "eX, y, eX_test, y_test = load_data()\n",
    "eX_transpose = eX.T\n",
    "n = eX.shape[0]\n"
   ]
  },
  {
   "cell_type": "code",
   "execution_count": 5,
   "metadata": {},
   "outputs": [],
   "source": [
    "def f1(w0,w) :\n",
    "    sum = 0\n",
    "    for i in range(n) :\n",
    "        exp = np.exp(-y[i]*(eX_transpose[i]*w+w0))\n",
    "        sum += np.log10(1+exp)\n",
    "    sum = sum/n + (norm(w)**2)/(2*n)\n",
    "    return sum\n",
    "\n",
    "def gradf1(w0,w) :\n",
    "    sum1 = 0\n",
    "    sum2 = 0\n",
    "    for i in range(n) :\n",
    "        exp = np.exp(-y[i]*(eX_transpose[i]*w+w0))\n",
    "        sum1 += (-y[i]*exp)/(1+exp)\n",
    "        sum2 += (-y[i]*eX[i]*exp)/(1+exp)\n",
    "    sum1 = sum1/n\n",
    "    sum2 = sum2/n + norm(w)/n\n",
    "    return [sum1, sum2]\n",
    "\n",
    "def hessf1(w0,w) :\n",
    "    sum1 = 0\n",
    "    sum2 = 0\n",
    "    sum3 = 0\n",
    "    for i in range(n) :\n",
    "        exp = np.exp(-y[i]*(eX_transpose[i]*w+w0))\n",
    "        sum1 += ((y[i]**2)*exp)/((1+exp)**2)\n",
    "        sum2 += ((y[i]**2)*eX_transpose[i]*exp)/((1+exp)**2)\n",
    "        sum3 += ((y[i]**2)*eX[i]*eX_transpose[i]*exp)/((1+exp)**2)\n",
    "    sum1 = sum1/n\n",
    "    sum2 = sum2/n\n",
    "    sum3 = sum3/n + 1/n\n",
    "    return [[sum1, sum2], [sum2, sum3]]\n"
   ]
  },
  {
   "attachments": {},
   "cell_type": "markdown",
   "metadata": {},
   "source": [
    "## Question 3.3"
   ]
  },
  {
   "cell_type": "code",
   "execution_count": null,
   "metadata": {},
   "outputs": [],
   "source": [
    "def newton(w0, w, max_iter=100): \n",
    "    iteration = []\n",
    "    log_grad = []\n",
    "    for i in range(max_iter):\n",
    "        grad = gradf1(w0, w)\n",
    "        hess = hessf1(w0, w)\n",
    "        h = np.linalg.solve(hess, grad)\n",
    "        w0 = w0 - h[0]\n",
    "        w = w - h[1]\n",
    "        iteration.append(i)\n",
    "        log_grad.append(np.log(grad))\n",
    "        if np.linalg.norm(h) < 10**(-10):\n",
    "            break\n",
    "    plt.plot(iteration, log_grad)\n",
    "    return [w0, w]\n",
    "\n",
    "newton(0,0)"
   ]
  },
  {
   "attachments": {},
   "cell_type": "markdown",
   "metadata": {},
   "source": [
    "## Question 3.4"
   ]
  },
  {
   "cell_type": "code",
   "execution_count": null,
   "metadata": {},
   "outputs": [],
   "source": [
    "newton(1,1)"
   ]
  },
  {
   "attachments": {},
   "cell_type": "markdown",
   "metadata": {},
   "source": [
    "## Question 3.5"
   ]
  },
  {
   "cell_type": "code",
   "execution_count": null,
   "metadata": {},
   "outputs": [],
   "source": []
  },
  {
   "attachments": {},
   "cell_type": "markdown",
   "metadata": {},
   "source": [
    "## Question 4.1"
   ]
  },
  {
   "attachments": {},
   "cell_type": "markdown",
   "metadata": {},
   "source": [
    "La méthode de newton ne peux pas ête utilisée car la matrice Hessienne de f1 n'est pas inversible.\n",
    "On ne peut donc pas résoudre le système d'équations et trouver h dans mon code."
   ]
  },
  {
   "attachments": {},
   "cell_type": "markdown",
   "metadata": {},
   "source": [
    "## Question 4.2"
   ]
  }
 ],
 "metadata": {
  "kernelspec": {
   "display_name": "Python 3",
   "language": "python",
   "name": "python3"
  },
  "language_info": {
   "codemirror_mode": {
    "name": "ipython",
    "version": 3
   },
   "file_extension": ".py",
   "mimetype": "text/x-python",
   "name": "python",
   "nbconvert_exporter": "python",
   "pygments_lexer": "ipython3",
   "version": "3.10.9 (tags/v3.10.9:1dd9be6, Dec  6 2022, 20:01:21) [MSC v.1934 64 bit (AMD64)]"
  },
  "orig_nbformat": 4,
  "vscode": {
   "interpreter": {
    "hash": "09b65ccb47121184b777eb75dc58d45c2e3a6de6a652e90ceaf4c7bcb4f62c8a"
   }
  }
 },
 "nbformat": 4,
 "nbformat_minor": 2
}
